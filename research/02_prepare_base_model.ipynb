{
 "cells": [
  {
   "cell_type": "code",
   "execution_count": 2,
   "metadata": {},
   "outputs": [
    {
     "data": {
      "text/plain": [
       "'e:\\\\Datasets\\\\Hafeez_DataSets\\\\chicken-Disease-Classification'"
      ]
     },
     "execution_count": 2,
     "metadata": {},
     "output_type": "execute_result"
    }
   ],
   "source": [
    "import os\n",
    "%pwd\n",
    "os.chdir(\"../\")\n",
    "%pwd"
   ]
  },
  {
   "cell_type": "code",
   "execution_count": 3,
   "metadata": {},
   "outputs": [],
   "source": []
  },
  {
   "cell_type": "code",
   "execution_count": 11,
   "metadata": {},
   "outputs": [
    {
     "name": "stdout",
     "output_type": "stream",
     "text": [
      "[2024-05-22 13:54:36,137: INFO: common: yaml file: config\\config.yaml loaded successfully]\n",
      "[2024-05-22 13:54:36,143: INFO: common: yaml file: params.yaml loaded successfully]\n"
     ]
    },
    {
     "name": "stdout",
     "output_type": "stream",
     "text": [
      "[2024-05-22 13:54:36,428: INFO: common: created directories at: artifacts]\n",
      "[2024-05-22 13:54:36,430: INFO: common: created directories at: artifacts/prepare_base_model]\n",
      "PrepareBaseModelConfig(root_dir=WindowsPath('artifacts/prepare_base_model'), base_model_path=WindowsPath('artifacts/prepare_base_model/base_model.h5'), updated_base_model_path=WindowsPath('artifacts/prepare_base_model/base_model_updated.h5'), params_image_size=BoxList([224, 224, 3]), params_learning_rate=0.01, params_include_top=False, params_weights='imagenet', params_classes=2)\n"
     ]
    }
   ],
   "source": [
    "\n",
    "from dataclasses import dataclass\n",
    "from pathlib import Path\n",
    "\n",
    "@dataclass(frozen=True)\n",
    "class PrepareBaseModelConfig:\n",
    "    root_dir: Path\n",
    "    base_model_path: Path\n",
    "    updated_base_model_path: Path\n",
    "    params_image_size: list\n",
    "    params_learning_rate: float\n",
    "    params_include_top: bool\n",
    "    params_weights: str\n",
    "    params_classes: int\n",
    "\n",
    "# Configuration Manager\n",
    "from cnnClassifier.constants import *\n",
    "from cnnClassifier.utils.common import read_yaml, create_directories\n",
    "\n",
    "CONFIG_FILE_PATH = Path(\"config/config.yaml\")  # Ensure this is correctly defined\n",
    "PARAMS_FILE_PATH = Path(\"params.yaml\")  # Ensure this is correctly defined\n",
    "\n",
    "class ConfigurationManager:\n",
    "    def __init__(self, config_filepath=CONFIG_FILE_PATH, params_filepath=PARAMS_FILE_PATH):\n",
    "        self.config = read_yaml(config_filepath)\n",
    "        self.params = read_yaml(params_filepath)\n",
    "        create_directories([self.config['artifacts_root']])\n",
    "\n",
    "    def get_prepare_base_model_config(self) -> PrepareBaseModelConfig:\n",
    "        config = self.config['prepare_base_model']\n",
    "        create_directories([config['root_dir']])\n",
    "\n",
    "        return PrepareBaseModelConfig(\n",
    "            root_dir=Path(config['root_dir']),\n",
    "            base_model_path=Path(config['base_model_path']),\n",
    "            updated_base_model_path=Path(config['updated_base_model_path']),\n",
    "            params_image_size=self.params['IMAGE_SIZE'],\n",
    "            params_learning_rate=self.params['LEARNING_RATE'],\n",
    "            params_include_top=self.params['INCLUDE_TOP'],\n",
    "            params_weights=self.params['WEIGHTS'],\n",
    "            params_classes=self.params['CLASSES']\n",
    "        )\n",
    "\n",
    "# Usage example:\n",
    "config_manager = ConfigurationManager()\n",
    "prepare_base_model_config = config_manager.get_prepare_base_model_config()\n",
    "print(prepare_base_model_config)\n"
   ]
  },
  {
   "cell_type": "code",
   "execution_count": 15,
   "metadata": {},
   "outputs": [
    {
     "name": "stdout",
     "output_type": "stream",
     "text": [
      "[2024-05-22 16:25:10,254: INFO: common: yaml file: config\\config.yaml loaded successfully]\n",
      "[2024-05-22 16:25:10,262: INFO: common: yaml file: params.yaml loaded successfully]\n",
      "[2024-05-22 16:25:10,262: INFO: common: created directories at: artifacts]\n",
      "[2024-05-22 16:25:10,262: INFO: common: created directories at: artifacts/prepare_base_model]\n"
     ]
    },
    {
     "ename": "TypeError",
     "evalue": "PrepareBaseModel() takes no arguments",
     "output_type": "error",
     "traceback": [
      "\u001b[1;31m---------------------------------------------------------------------------\u001b[0m",
      "\u001b[1;31mTypeError\u001b[0m                                 Traceback (most recent call last)",
      "Cell \u001b[1;32mIn[15], line 74\u001b[0m\n\u001b[0;32m     72\u001b[0m     prepare_base_model\u001b[38;5;241m.\u001b[39mupdate_base_model()\n\u001b[0;32m     73\u001b[0m \u001b[38;5;28;01mexcept\u001b[39;00m \u001b[38;5;167;01mException\u001b[39;00m \u001b[38;5;28;01mas\u001b[39;00m e:\n\u001b[1;32m---> 74\u001b[0m     \u001b[38;5;28;01mraise\u001b[39;00m e \n",
      "Cell \u001b[1;32mIn[15], line 70\u001b[0m\n\u001b[0;32m     68\u001b[0m config \u001b[38;5;241m=\u001b[39m ConfigurationManager()\n\u001b[0;32m     69\u001b[0m prepare_base_model_config \u001b[38;5;241m=\u001b[39m config\u001b[38;5;241m.\u001b[39mget_prepare_base_model_config()\n\u001b[1;32m---> 70\u001b[0m prepare_base_model\u001b[38;5;241m=\u001b[39m\u001b[43mPrepareBaseModel\u001b[49m\u001b[43m(\u001b[49m\u001b[43mconfig\u001b[49m\u001b[38;5;241;43m=\u001b[39;49m\u001b[43mprepare_base_model_config\u001b[49m\u001b[43m)\u001b[49m\n\u001b[0;32m     71\u001b[0m prepare_base_model\u001b[38;5;241m.\u001b[39mget_base_model()\n\u001b[0;32m     72\u001b[0m prepare_base_model\u001b[38;5;241m.\u001b[39mupdate_base_model()\n",
      "\u001b[1;31mTypeError\u001b[0m: PrepareBaseModel() takes no arguments"
     ]
    }
   ],
   "source": [
    "# Working on Component\n",
    "import os\n",
    "import urllib.request as request\n",
    "from zipfile import ZipFile\n",
    "import tensorflow as tf\n",
    "\n",
    "class PrepareBaseModel:\n",
    "    def __init__(self, config: PrepareBaseModelConfig):\n",
    "        self.config = config\n",
    "        \n",
    "    \n",
    "    def get_base_model(self):\n",
    "        self.model = tf.keras.application.vgg16.VGG16(\n",
    "            input_shape  =self.config.params_image_size,\n",
    "            weights=self.config.params_weights,\n",
    "            include_top = self.config.params_include_top\n",
    "        )\n",
    "        \n",
    "        self.save_model(path=self.config.base_model_path, mode= self.model)\n",
    "\n",
    "    @staticmethod\n",
    "    def _prepare_full_model(model, classes, freeze_all, freeze_till, learning_rate):\n",
    "        if freeze_all:\n",
    "            for layer in model.layers:\n",
    "                model.trainable = False\n",
    "        elif (freeze_till is not None) and (freeze_till > 0 ):\n",
    "            for layer in model.layers[: freeze_till]:\n",
    "                model.trainable = False\n",
    "                \n",
    "        flatten_in = tf.keras.layers.Flatten()(model.output)\n",
    "        prediction = tf.keras.layers.Dense(\n",
    "            units= classes,\n",
    "            activation=\"softmax\"\n",
    "        )(faltten_in)\n",
    "        \n",
    "        full_model = tf.keras.models.Model(\n",
    "            inputs=model.input,\n",
    "            outputs=prediction\n",
    "        )\n",
    "        \n",
    "        full_model.compile(\n",
    "            optimizer  =tf.keras.optimizers.SGD(learning_rate=learning_rate),\n",
    "            loss=tf.keras.losses.CategoricalCrossentropy(),\n",
    "            metrics=[\"accuracy\"]\n",
    "        )\n",
    "        \n",
    "        full_model.summary()\n",
    "        return full_model\n",
    "        \n",
    "    def update_base_model(self):\n",
    "        self.full_model = self._prepare_full_model(\n",
    "            model=self.model,\n",
    "            classes=self.config.params_classes,\n",
    "            freeze_all=True,\n",
    "            freeze_till= None,\n",
    "            learning_rate=self.config.params_learning_rate\n",
    "        )\n",
    "        \n",
    "        self.save_model(path=self.config.updated_base_model_path, model=self.full_model)\n",
    "        \n",
    "    @staticmethod\n",
    "    \n",
    "    def save_model(path: Path, model: tf.keras.Model):\n",
    "        model.save(path)\n",
    "\n",
    "#Creating pipeline\n",
    "try:\n",
    "    config = ConfigurationManager()\n",
    "    prepare_base_model_config = config.get_prepare_base_model_config()\n",
    "    prepare_base_model=PrepareBaseModel(config=prepare_base_model_config)\n",
    "    prepare_base_model.get_base_model()\n",
    "    prepare_base_model.update_base_model()\n",
    "except Exception as e:\n",
    "    raise e "
   ]
  },
  {
   "cell_type": "code",
   "execution_count": 14,
   "metadata": {},
   "outputs": [
    {
     "name": "stdout",
     "output_type": "stream",
     "text": [
      "[2024-05-22 16:21:11,057: INFO: common: yaml file: config\\config.yaml loaded successfully]\n",
      "[2024-05-22 16:21:11,070: INFO: common: yaml file: params.yaml loaded successfully]\n",
      "[2024-05-22 16:21:11,072: INFO: common: created directories at: artifacts]\n",
      "[2024-05-22 16:21:11,074: INFO: common: created directories at: artifacts/prepare_base_model]\n"
     ]
    },
    {
     "ename": "TypeError",
     "evalue": "PrepareBaseModel() takes no arguments",
     "output_type": "error",
     "traceback": [
      "\u001b[1;31m---------------------------------------------------------------------------\u001b[0m",
      "\u001b[1;31mTypeError\u001b[0m                                 Traceback (most recent call last)",
      "Cell \u001b[1;32mIn[14], line 9\u001b[0m\n\u001b[0;32m      7\u001b[0m     prepare_base_model\u001b[38;5;241m.\u001b[39mupdate_base_model()\n\u001b[0;32m      8\u001b[0m \u001b[38;5;28;01mexcept\u001b[39;00m \u001b[38;5;167;01mException\u001b[39;00m \u001b[38;5;28;01mas\u001b[39;00m e:\n\u001b[1;32m----> 9\u001b[0m     \u001b[38;5;28;01mraise\u001b[39;00m e\n",
      "Cell \u001b[1;32mIn[14], line 5\u001b[0m\n\u001b[0;32m      3\u001b[0m config \u001b[38;5;241m=\u001b[39m ConfigurationManager()\n\u001b[0;32m      4\u001b[0m prepare_base_model_config \u001b[38;5;241m=\u001b[39m config\u001b[38;5;241m.\u001b[39mget_prepare_base_model_config()\n\u001b[1;32m----> 5\u001b[0m prepare_base_model\u001b[38;5;241m=\u001b[39m\u001b[43mPrepareBaseModel\u001b[49m\u001b[43m(\u001b[49m\u001b[43mconfig\u001b[49m\u001b[38;5;241;43m=\u001b[39;49m\u001b[43mprepare_base_model_config\u001b[49m\u001b[43m)\u001b[49m\n\u001b[0;32m      6\u001b[0m prepare_base_model\u001b[38;5;241m.\u001b[39mget_base_model()\n\u001b[0;32m      7\u001b[0m prepare_base_model\u001b[38;5;241m.\u001b[39mupdate_base_model()\n",
      "\u001b[1;31mTypeError\u001b[0m: PrepareBaseModel() takes no arguments"
     ]
    }
   ],
   "source": []
  },
  {
   "cell_type": "code",
   "execution_count": null,
   "metadata": {},
   "outputs": [],
   "source": []
  },
  {
   "cell_type": "code",
   "execution_count": null,
   "metadata": {},
   "outputs": [],
   "source": []
  }
 ],
 "metadata": {
  "kernelspec": {
   "display_name": "chicken",
   "language": "python",
   "name": "python3"
  },
  "language_info": {
   "codemirror_mode": {
    "name": "ipython",
    "version": 3
   },
   "file_extension": ".py",
   "mimetype": "text/x-python",
   "name": "python",
   "nbconvert_exporter": "python",
   "pygments_lexer": "ipython3",
   "version": "3.9.19"
  }
 },
 "nbformat": 4,
 "nbformat_minor": 2
}
