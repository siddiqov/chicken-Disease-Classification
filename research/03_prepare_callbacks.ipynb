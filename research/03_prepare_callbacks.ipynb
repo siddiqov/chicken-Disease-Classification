{
 "cells": [
  {
   "cell_type": "code",
   "execution_count": 1,
   "metadata": {},
   "outputs": [
    {
     "data": {
      "text/plain": [
       "'e:\\\\Datasets\\\\Hafeez_DataSets\\\\chicken-Disease-Classification\\\\research'"
      ]
     },
     "execution_count": 1,
     "metadata": {},
     "output_type": "execute_result"
    }
   ],
   "source": [
    "import os\n",
    "%pwd"
   ]
  },
  {
   "cell_type": "code",
   "execution_count": 2,
   "metadata": {},
   "outputs": [
    {
     "data": {
      "text/plain": [
       "'e:\\\\Datasets\\\\Hafeez_DataSets\\\\chicken-Disease-Classification'"
      ]
     },
     "execution_count": 2,
     "metadata": {},
     "output_type": "execute_result"
    }
   ],
   "source": [
    "os.chdir(\"../\")\n",
    "%pwd"
   ]
  },
  {
   "cell_type": "code",
   "execution_count": 10,
   "metadata": {},
   "outputs": [
    {
     "data": {
      "text/plain": [
       "'e:\\\\Datasets\\\\Hafeez_DataSets\\\\chicken-Disease-Classification'"
      ]
     },
     "execution_count": 10,
     "metadata": {},
     "output_type": "execute_result"
    }
   ],
   "source": [
    "%pwd"
   ]
  },
  {
   "cell_type": "code",
   "execution_count": 11,
   "metadata": {},
   "outputs": [
    {
     "name": "stdout",
     "output_type": "stream",
     "text": [
      "[2024-05-24 23:17:19,875: INFO: common: yaml file: config\\config.yaml loaded successfully]\n",
      "[2024-05-24 23:17:19,892: INFO: common: yaml file: config\\params.yaml loaded successfully]\n",
      "[2024-05-24 23:17:19,895: INFO: common: created directories at: artifacts]\n",
      "[2024-05-24 23:17:19,897: INFO: common: created directories at: artifacts\\prepare_callbacks\\checkpoint_dir]\n",
      "[2024-05-24 23:17:19,899: INFO: common: created directories at: artifacts\\prepare_callbacks\\tensorboard_log_dir]\n"
     ]
    }
   ],
   "source": [
    "#03_prepare_callbacks\n",
    "\n",
    " #Initialising the entity\n",
    "from dataclasses import dataclass\n",
    "from pathlib import Path\n",
    "# src/cnnClassifier/configuration.py\n",
    "from cnnClassifier.constants import *\n",
    "from cnnClassifier.utils.common import read_yaml, create_directories\n",
    "from cnnClassifier.entity.config_entity import PrepareCallbacksConfig\n",
    "\n",
    "import os\n",
    "from pathlib import Path\n",
    "\n",
    "class ConfigurationManager:\n",
    "    def __init__(self, config_filepath=CONFIG_FILE_PATH, params_filepath=PARAMS_FILE_PATH):\n",
    "        self.config = read_yaml(config_filepath)\n",
    "        self.params = read_yaml(params_filepath)\n",
    "        create_directories([Path(self.config['artifacts_root'])])\n",
    "        \n",
    "    \n",
    "    def get_prepare_callback_config(self) -> PrepareCallbacksConfig:\n",
    "        config = self.config['prepare_callbacks']\n",
    "        model_ckpt_dir = os.path.dirname(config['checkpoint_model_filepath'])\n",
    "        create_directories([\n",
    "            Path(model_ckpt_dir),\n",
    "            Path(config['tensorboard_root_log_dir'])\n",
    "        ])\n",
    "        \n",
    "        return PrepareCallbacksConfig(\n",
    "            root_dir=Path(config['root_dir']),\n",
    "            tensorboard_root_log_dir=Path(config['tensorboard_root_log_dir']),\n",
    "            checkpoint_model_filepath=Path(config['checkpoint_model_filepath'])\n",
    "        )\n",
    "  \n",
    "#Creating Components\n",
    "\n",
    "import urllib.request as request\n",
    "from zipfile import ZipFile\n",
    "import tensorflow as tf\n",
    "import time\n",
    "#from cnnClassifier.entity.config_entity import PrepareCallbacksConfig\n",
    "\n",
    "class PrepareCallback_:\n",
    "    def __init__(self, config: PrepareCallbacksConfig):\n",
    "        self.config = config\n",
    "\n",
    "\n",
    "    @property\n",
    "    def _create_tb_callbacks(self):\n",
    "        timestamp = time.strftime(\"%Y-%m-%d-%H-%M-%S\")\n",
    "        tb_running_log_dir = os.path.join(\n",
    "            self.config.tensorboard_root_log_dir,\n",
    "            f\"tb_log_at_{timestamp}\",\n",
    "        )\n",
    "        return tf.keras.callbacks.TensorBoard(log_dir=tb_running_log_dir)\n",
    "\n",
    "    @property\n",
    "    def _create_ckpt_callbacks(self):\n",
    "        checkpoint_filepath = self.config.checkpoint_model_filepath\n",
    "        # Ensure the filepath ends with .keras\n",
    "        if not checkpoint_filepath.suffix == '.keras':\n",
    "            checkpoint_filepath = checkpoint_filepath.with_suffix('.keras')\n",
    "\n",
    "        return tf.keras.callbacks.ModelCheckpoint(\n",
    "            filepath=checkpoint_filepath,\n",
    "            save_best_only=True\n",
    "        )\n",
    "\n",
    "        \n",
    "    @property   \n",
    "    def get_tb_ckpt_callbacks(self):\n",
    "        return [\n",
    "            self._create_tb_callbacks,\n",
    "            self._create_ckpt_callbacks\n",
    "        ]\n",
    "\n",
    "#Pipeline\n",
    "try:\n",
    "    config = ConfigurationManager()\n",
    "    prepare_callbacks_config = config.get_prepare_callback_config()\n",
    "    prepare_callbacks = PrepareCallback_(config=prepare_callbacks_config)\n",
    "    callback_list = prepare_callbacks.get_tb_ckpt_callbacks  # Remove parentheses\n",
    "\n",
    "except Exception as e:\n",
    "    raise e"
   ]
  },
  {
   "cell_type": "code",
   "execution_count": null,
   "metadata": {},
   "outputs": [],
   "source": []
  }
 ],
 "metadata": {
  "kernelspec": {
   "display_name": "chicken",
   "language": "python",
   "name": "python3"
  },
  "language_info": {
   "codemirror_mode": {
    "name": "ipython",
    "version": 3
   },
   "file_extension": ".py",
   "mimetype": "text/x-python",
   "name": "python",
   "nbconvert_exporter": "python",
   "pygments_lexer": "ipython3",
   "version": "3.9.19"
  }
 },
 "nbformat": 4,
 "nbformat_minor": 2
}
